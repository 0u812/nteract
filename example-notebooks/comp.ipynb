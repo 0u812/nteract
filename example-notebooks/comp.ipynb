{
  "cells": [
    {
      "cell_type": "code",
      "source": [
        "//------------------------------------------\n",
        "//Bistable Switch\n",
        "//Two genes down-regulate one another. Hill coefficient = 2\n",
        "//input x can be used to upregulate one of the genes\n",
        "//------------------------------------------\n",
        "\n",
        "model bistable(s1, s2)\n",
        "   gene g1, g2;\n",
        "   species s1, s2;\n",
        "   g1: -> s1; k1*(1 + x)/(1 + k2*s2^2) //gene 1 makes protein s1\n",
        "   s1 -> ; k0*s1                       //protein 1 degrades\n",
        "   g2: -> s2; k3/(1 + k4*s1^2)         //gene 2 makes protein s2\n",
        "   s2 -> ; k0*s2                       //protein s2 degrades\n",
        "   x=0\n",
        "\n",
        "   k0 = 0.1         //parameters in the model\n",
        "   k1 = 1\n",
        "   k2 = 1\n",
        "   k3 = 1\n",
        "   k4 = 1\n",
        "end\n",
        "\n",
        "//------------------------------------------\n",
        "//Feed Forward Network (Coherent Type 1)\n",
        "//The FFN is meant to reduce noise -- the signal x has to last long enough\n",
        "//if x is short lived, then g2 does not receive the signal\n",
        "//------------------------------------------\n",
        "model ffn(x, s2)\n",
        "   gene g1, g2;         \n",
        "   species x, s1, s2;\n",
        "   \n",
        "   g1: -> s1; x/(1 + x)         //gene 1 makes protein s1\n",
        "   s1 -> ; k1*s1                //s1 degrades\n",
        "   g2: -> s2; x*s1/(1 + x + s1) //gene 2 makes protein s2\n",
        "   s2 -> ; k2*s2\t\t//s2 degrades\n",
        "\n",
        "   k0 = 0.1\n",
        "   k1 = 0.1\n",
        "   k2 = 0.1*k0\n",
        "end\n",
        "\n",
        "//------------------------------------------\n",
        "//A ring oscillator (similar to the repressilator)\n",
        "//The input x can be used to disturb the oscillator\n",
        "//------------------------------------------\n",
        "model ringoscil(x)\n",
        "   gene g1, g2, g3\n",
        "   species s1, s2, s3, x\n",
        "\n",
        "   g1: -> s1; k1/(1 + x + s3^2)\n",
        "   s1 -> ; k0*s1\n",
        "   g2: -> s2; k1/(1 + s1^3)\n",
        "   s2 -> ; k0*s2\n",
        "   g3: -> s3; k1/(1 + s2^3)\n",
        "   s3 -> ; k0*s3\n",
        "   \n",
        "   k1 = 2\n",
        "   k0 = 0.1\n",
        "end\n",
        "\n",
        "//------------------------------------------\n",
        "//The combined Model\n",
        "// The bistable switch has two proteins - y and z\n",
        "// z also interacts with the oscillator to disrupt it\n",
        "// the FFN can be used to change the state of the bistable switch\n",
        "//------------------------------------------\n",
        "// EFFECT: the duration of signal x determines whether the oscillator turns on\n",
        "//------------------------------------------\n",
        "model combined_model(x)\n",
        "   A: bistable(y,z)\n",
        "   B: ringoscil(z)\n",
        "   C: ffn(x, y)\n",
        "end\n",
        "\n",
        "model main()\n",
        "    C: combined_model(x);\n",
        "    x = 10;\n",
        "    x -> ; k0*x  //The signal degrades over time, giving us a pulse.\n",
        "    k0 = 100;\n",
        "end"
      ],
      "outputs": [],
      "execution_count": 26,
      "metadata": {
        "collapsed": false,
        "outputHidden": false,
        "inputHidden": false,
        "tellurium": {
          "te_cell_type": "antimony"
        }
      }
    },
    {
      "cell_type": "code",
      "source": [
        "main.simulate(0,100,100)\n",
        "main.plot()"
      ],
      "outputs": [],
      "execution_count": 27,
      "metadata": {
        "collapsed": false,
        "outputHidden": false,
        "inputHidden": false
      }
    }
  ],
  "metadata": {
    "kernelspec": {
      "name": "python3",
      "language": "python",
      "display_name": "Python 3 (built-in)"
    },
    "kernel_info": {
      "name": "python3"
    },
    "language_info": {
      "name": "python",
      "version": "3.6.3",
      "mimetype": "text/x-python",
      "codemirror_mode": {
        "name": "ipython",
        "version": 3
      },
      "pygments_lexer": "ipython3",
      "nbconvert_exporter": "python",
      "file_extension": ".py"
    }
  },
  "nbformat": 4,
  "nbformat_minor": 4
}