{
 "nbformat_minor": 0,
 "cells": [
  {
   "cell_type": "code",
   "execution_count": 8,
   "metadata": {
    "collapsed": false
   },
   "outputs": [
    {
     "source": "R display func",
     "data": {
      "application/json+plotly.v1": {
       "data": [
        {
         "x": [
          1999,
          2000,
          2001,
          2002
         ],
         "y": [
          10,
          15,
          13,
          17
         ],
         "type": "scatter"
        }
       ]
      }
     },
     "metadata": {},
     "output_type": "display_data"
    }
   ],
   "source": [
    "library(IRdisplay)\n",
    "\n",
    "data <- list(list(x=c(1999, 2000, 2001, 2002), y=c(10, 15, 13, 17), type='scatter'))\n",
    "figure <- list(data=data)\n",
    "\n",
    "mimebundle <- list('application/json+plotly.v1'=figure)\n",
    "#mimebundle[[]] <- figure\n",
    "IRdisplay::publish_mimebundle(mimebundle)"
   ]
  },
  {
   "cell_type": "code",
   "execution_count": 6,
   "metadata": {
    "collapsed": false
   },
   "source": [
    "c(1) == 1"
   ],
   "outputs": [
    {
     "data": {
      "text/html": [
       "TRUE"
      ],
      "text/markdown": [
       "TRUE"
      ],
      "text/latex": [
       "TRUE"
      ],
      "text/plain": [
       "[1] TRUE"
      ]
     },
     "metadata": {},
     "output_type": "display_data"
    }
   ]
  },
  {
   "cell_type": "code",
   "execution_count": null,
   "metadata": {
    "collapsed": false
   },
   "source": [],
   "outputs": []
  }
 ],
 "metadata": {
  "kernelspec": {
   "name": "ir",
   "language": "R",
   "display_name": "R"
  },
  "kernel_info": {
   "name": "ir"
  },
  "language_info": {
   "name": "R",
   "codemirror_mode": "r",
   "pygments_lexer": "r",
   "mimetype": "text/x-r-source",
   "file_extension": ".r",
   "version": "3.3.1"
  }
 },
 "nbformat": 4
}