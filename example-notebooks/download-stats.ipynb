{
 "cells": [
  {
   "cell_type": "markdown",
   "metadata": {
    "collapsed": false
   },
   "source": [
    "# Download counts for nteract"
   ]
  },
  {
   "cell_type": "code",
   "execution_count": 1,
   "metadata": {
    "collapsed": false
   },
   "outputs": [],
   "source": [
    "import IPython.display\n",
    "import pandas as pd"
   ]
  },
  {
   "cell_type": "code",
   "execution_count": 2,
   "metadata": {
    "collapsed": false
   },
   "outputs": [],
   "source": [
    "import requests\n",
    "\n",
    "# Note: \n",
    "data = requests.get('https://api.github.com/repos/nteract/nteract/releases').json()"
   ]
  },
  {
   "cell_type": "code",
   "execution_count": 3,
   "metadata": {
    "collapsed": false
   },
   "outputs": [
    {
     "name": "stdout",
     "output_type": "stream",
     "text": [
      "v0.0.13:\n",
      "\thttps://github.com/nteract/nteract/releases/download/v0.0.13/nteract-darwin-x64.zip\n",
      "\t77\n"
     ]
    }
   ],
   "source": [
    "print(\"{}:\\n\\t{}\\n\\t{}\".format(\n",
    "  data[0]['tag_name'],\n",
    "  data[0]['assets'][0]['browser_download_url'],\n",
    "  data[0]['assets'][0]['download_count']\n",
    "))\n"
   ]
  },
  {
   "cell_type": "markdown",
   "metadata": {
    "collapsed": false
   },
   "source": [
    "The releases API only has context of the filename, so we'll convert:\n",
    "\n",
    "```\n",
    "https://github.com/nteract/nteract/releases/download/v0.0.13/nteract-darwin-x64.zip\n",
    "```\n",
    "\n",
    "to\n",
    "\n",
    "```\n",
    "darwin-x64\n",
    "```\n",
    "\n",
    "Which means we're reliant on our release naming to keep this a nice consistent structure"
   ]
  },
  {
   "cell_type": "code",
   "execution_count": 4,
   "metadata": {
    "collapsed": false
   },
   "outputs": [],
   "source": [
    "def strip_off_release(browser_download_url):\n",
    "    filename = browser_download_url.split('/')[-1]\n",
    "    basename = filename.split('.')[0]\n",
    "    system = basename.split('-')[1:]\n",
    "    return \"-\".join(system)"
   ]
  },
  {
   "cell_type": "code",
   "execution_count": 5,
   "metadata": {
    "collapsed": false
   },
   "outputs": [
    {
     "data": {
      "text/plain": [
       "[{'counts': {'darwin-x64': 77, 'linux-x64': 100, 'win32-x64': 27},\n",
       "  'version': 'v0.0.13'},\n",
       " {'counts': {'darwin-x64': 110}, 'version': 'v0.0.12'},\n",
       " {'counts': {'darwin-x64': 6}, 'version': 'v0.0.11'},\n",
       " {'counts': {'darwin-x64': 15, 'linux-x64': 11}, 'version': 'v0.0.10'},\n",
       " {'counts': {'darwin-x64': 10}, 'version': 'v0.0.9'},\n",
       " {'counts': {'darwin-x64': 20, 'linux-x64': 1}, 'version': 'v0.0.8'},\n",
       " {'counts': {'darwin-x64': 41}, 'version': 'v0.0.7'},\n",
       " {'counts': {'darwin-x64': 2}, 'version': 'v0.0.6'},\n",
       " {'counts': {'darwin-x64': 30}, 'version': 'v0.0.5'},\n",
       " {'counts': {'darwin-x64': 8}, 'version': 'v0.0.4'},\n",
       " {'counts': {'linux-ia32': 3, 'linux-x64': 18, 'os-x': 110},\n",
       "  'version': 'v0.0.3'},\n",
       " {'counts': {'linux-ia32': 0, 'linux-x64': 0, 'os-x': 4}, 'version': 'v0.0.2'}]"
      ]
     },
     "execution_count": 5,
     "metadata": {},
     "output_type": "execute_result"
    }
   ],
   "source": [
    "releases = [\n",
    "  {\n",
    "    'version': x['tag_name'], \n",
    "    'counts': { strip_off_release(y['browser_download_url']): y['download_count'] for y in x['assets'] }\n",
    "  } \n",
    "    for x in data\n",
    "]\n",
    "releases"
   ]
  },
  {
   "cell_type": "code",
   "execution_count": 6,
   "metadata": {
    "collapsed": false
   },
   "outputs": [
    {
     "data": {
      "text/html": [
       "<div>\n",
       "<table border=\"1\" class=\"dataframe\">\n",
       "  <thead>\n",
       "    <tr style=\"text-align: right;\">\n",
       "      <th></th>\n",
       "      <th>version</th>\n",
       "      <th>os</th>\n",
       "      <th>count</th>\n",
       "    </tr>\n",
       "  </thead>\n",
       "  <tbody>\n",
       "    <tr>\n",
       "      <th>0</th>\n",
       "      <td>v0.0.13</td>\n",
       "      <td>win32-x64</td>\n",
       "      <td>27</td>\n",
       "    </tr>\n",
       "    <tr>\n",
       "      <th>1</th>\n",
       "      <td>v0.0.13</td>\n",
       "      <td>linux-x64</td>\n",
       "      <td>100</td>\n",
       "    </tr>\n",
       "    <tr>\n",
       "      <th>2</th>\n",
       "      <td>v0.0.13</td>\n",
       "      <td>darwin-x64</td>\n",
       "      <td>77</td>\n",
       "    </tr>\n",
       "    <tr>\n",
       "      <th>3</th>\n",
       "      <td>v0.0.12</td>\n",
       "      <td>darwin-x64</td>\n",
       "      <td>110</td>\n",
       "    </tr>\n",
       "    <tr>\n",
       "      <th>4</th>\n",
       "      <td>v0.0.11</td>\n",
       "      <td>darwin-x64</td>\n",
       "      <td>6</td>\n",
       "    </tr>\n",
       "    <tr>\n",
       "      <th>5</th>\n",
       "      <td>v0.0.10</td>\n",
       "      <td>linux-x64</td>\n",
       "      <td>11</td>\n",
       "    </tr>\n",
       "    <tr>\n",
       "      <th>6</th>\n",
       "      <td>v0.0.10</td>\n",
       "      <td>darwin-x64</td>\n",
       "      <td>15</td>\n",
       "    </tr>\n",
       "    <tr>\n",
       "      <th>7</th>\n",
       "      <td>v0.0.9</td>\n",
       "      <td>darwin-x64</td>\n",
       "      <td>10</td>\n",
       "    </tr>\n",
       "    <tr>\n",
       "      <th>8</th>\n",
       "      <td>v0.0.8</td>\n",
       "      <td>linux-x64</td>\n",
       "      <td>1</td>\n",
       "    </tr>\n",
       "    <tr>\n",
       "      <th>9</th>\n",
       "      <td>v0.0.8</td>\n",
       "      <td>darwin-x64</td>\n",
       "      <td>20</td>\n",
       "    </tr>\n",
       "    <tr>\n",
       "      <th>10</th>\n",
       "      <td>v0.0.7</td>\n",
       "      <td>darwin-x64</td>\n",
       "      <td>41</td>\n",
       "    </tr>\n",
       "    <tr>\n",
       "      <th>11</th>\n",
       "      <td>v0.0.6</td>\n",
       "      <td>darwin-x64</td>\n",
       "      <td>2</td>\n",
       "    </tr>\n",
       "    <tr>\n",
       "      <th>12</th>\n",
       "      <td>v0.0.5</td>\n",
       "      <td>darwin-x64</td>\n",
       "      <td>30</td>\n",
       "    </tr>\n",
       "    <tr>\n",
       "      <th>13</th>\n",
       "      <td>v0.0.4</td>\n",
       "      <td>darwin-x64</td>\n",
       "      <td>8</td>\n",
       "    </tr>\n",
       "    <tr>\n",
       "      <th>14</th>\n",
       "      <td>v0.0.3</td>\n",
       "      <td>os-x</td>\n",
       "      <td>110</td>\n",
       "    </tr>\n",
       "    <tr>\n",
       "      <th>15</th>\n",
       "      <td>v0.0.3</td>\n",
       "      <td>linux-ia32</td>\n",
       "      <td>3</td>\n",
       "    </tr>\n",
       "    <tr>\n",
       "      <th>16</th>\n",
       "      <td>v0.0.3</td>\n",
       "      <td>linux-x64</td>\n",
       "      <td>18</td>\n",
       "    </tr>\n",
       "    <tr>\n",
       "      <th>17</th>\n",
       "      <td>v0.0.2</td>\n",
       "      <td>os-x</td>\n",
       "      <td>4</td>\n",
       "    </tr>\n",
       "    <tr>\n",
       "      <th>18</th>\n",
       "      <td>v0.0.2</td>\n",
       "      <td>linux-ia32</td>\n",
       "      <td>0</td>\n",
       "    </tr>\n",
       "    <tr>\n",
       "      <th>19</th>\n",
       "      <td>v0.0.2</td>\n",
       "      <td>linux-x64</td>\n",
       "      <td>0</td>\n",
       "    </tr>\n",
       "  </tbody>\n",
       "</table>\n",
       "</div>"
      ],
      "text/plain": [
       "    version          os  count\n",
       "0   v0.0.13   win32-x64     27\n",
       "1   v0.0.13   linux-x64    100\n",
       "2   v0.0.13  darwin-x64     77\n",
       "3   v0.0.12  darwin-x64    110\n",
       "4   v0.0.11  darwin-x64      6\n",
       "5   v0.0.10   linux-x64     11\n",
       "6   v0.0.10  darwin-x64     15\n",
       "7    v0.0.9  darwin-x64     10\n",
       "8    v0.0.8   linux-x64      1\n",
       "9    v0.0.8  darwin-x64     20\n",
       "10   v0.0.7  darwin-x64     41\n",
       "11   v0.0.6  darwin-x64      2\n",
       "12   v0.0.5  darwin-x64     30\n",
       "13   v0.0.4  darwin-x64      8\n",
       "14   v0.0.3        os-x    110\n",
       "15   v0.0.3  linux-ia32      3\n",
       "16   v0.0.3   linux-x64     18\n",
       "17   v0.0.2        os-x      4\n",
       "18   v0.0.2  linux-ia32      0\n",
       "19   v0.0.2   linux-x64      0"
      ]
     },
     "execution_count": 6,
     "metadata": {},
     "output_type": "execute_result"
    }
   ],
   "source": [
    "versions = []\n",
    "frames = []\n",
    "\n",
    "for release in releases:\n",
    "    versions.append(release['version'])\n",
    "    frames.append(pd.DataFrame.from_dict(release['counts'], orient='index'))\n",
    "\n",
    "df = pd.concat(frames, keys=versions).reset_index()\n",
    "df.columns = ['version', 'os', 'count']\n",
    "df"
   ]
  },
  {
   "cell_type": "markdown",
   "metadata": {},
   "source": [
    "It would be really interesting to know how these counts change over time."
   ]
  },
  {
   "cell_type": "code",
   "execution_count": 7,
   "metadata": {
    "collapsed": false
   },
   "outputs": [],
   "source": [
    "from distutils.version import LooseVersion\n",
    "\n",
    "versions = set(df.version.values.tolist())\n",
    "versions = sorted(versions, key=LooseVersion)"
   ]
  },
  {
   "cell_type": "code",
   "execution_count": 8,
   "metadata": {
    "collapsed": false,
    "scrolled": false
   },
   "outputs": [
    {
     "data": {
      "image/png": "[encoded data removed]",
      "text/plain": [
       "<matplotlib.figure.Figure at 0x7f84a3e0d978>"
      ]
     },
     "metadata": {
      "image/png": {
       "height": 557,
       "width": 967
      }
     },
     "output_type": "display_data"
    }
   ],
   "source": [
    "import matplotlib.pyplot as plt\n",
    "import seaborn as sns\n",
    "%matplotlib inline\n",
    "%config InlineBackend.figure_format = 'retina'\n",
    "\n",
    "fig = plt.figure(figsize=(10, 6))\n",
    "ax = fig.add_subplot(1, 1, 1)\n",
    "ax = sns.barplot(x='version', y=\"count\", hue=\"os\", data=df, order=versions)\n",
    "ax.set_xticklabels(versions, rotation=30)\n",
    "ax.set(xlabel='Version', ylabel='Count')\n",
    "plt.legend(bbox_to_anchor=(1, 1), loc=2, borderaxespad=0)\n",
    "plt.show()"
   ]
  }
 ],
 "metadata": {
  "anaconda-cloud": {},
  "kernel_info": {
   "name": "python3"
  },
  "kernelspec": {
   "display_name": "Python [default]",
   "language": "python",
   "name": "python3"
  },
  "language_info": {
   "codemirror_mode": {
    "name": "ipython",
    "version": 3
   },
   "file_extension": ".py",
   "mimetype": "text/x-python",
   "name": "python",
   "nbconvert_exporter": "python",
   "pygments_lexer": "ipython3",
   "version": "3.5.2"
  }
 },
 "nbformat": 4,
 "nbformat_minor": 0
}
