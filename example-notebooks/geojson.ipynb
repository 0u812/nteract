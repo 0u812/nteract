{
 "nbformat_minor": 0,
 "cells": [
  {
   "cell_type": "code",
   "execution_count": 1,
   "metadata": {
    "collapsed": false
   },
   "outputs": [],
   "source": [
    "import IPython\n",
    "import json\n",
    "\n",
    "def geojson(data):\n",
    "  bundle = {}\n",
    "  bundle['application/vnd.geo+json'] = data\n",
    "  IPython.display.display(bundle, raw=True)"
   ]
  },
  {
   "cell_type": "code",
   "execution_count": 2,
   "metadata": {
    "collapsed": false
   },
   "outputs": [
    {
     "data": {
      "application/vnd.geo+json": {
       "type": "FeatureCollection",
       "features": [
        {
         "geometry": {
          "type": "LineString",
          "coordinates": [
           [
            -105.00341892242432,
            39.75383843460583
           ],
           [
            -105.0008225440979,
            39.751891803969535
           ]
          ]
         },
         "type": "Feature",
         "properties": {
          "underConstruction": false,
          "popupContent": "This is free bus that will take you across downtown."
         },
         "id": 1
        },
        {
         "geometry": {
          "type": "LineString",
          "coordinates": [
           [
            -105.0008225440979,
            39.751891803969535
           ],
           [
            -104.99820470809937,
            39.74979664004068
           ]
          ]
         },
         "type": "Feature",
         "properties": {
          "underConstruction": true,
          "popupContent": "This is free bus that will take you across downtown."
         },
         "id": 2
        },
        {
         "geometry": {
          "type": "LineString",
          "coordinates": [
           [
            -104.99820470809937,
            39.74979664004068
           ],
           [
            -104.98689651489258,
            39.741052354709055
           ]
          ]
         },
         "type": "Feature",
         "properties": {
          "underConstruction": false,
          "popupContent": "This is free bus that will take you across downtown."
         },
         "id": 3
        }
       ]
      }
     },
     "metadata": {},
     "output_type": "display_data"
    }
   ],
   "source": [
    "data = {\n",
    "    \"type\": \"FeatureCollection\",\n",
    "    \"features\": [\n",
    "        {\n",
    "            \"type\": \"Feature\",\n",
    "            \"geometry\": {\n",
    "                \"type\": \"LineString\",\n",
    "                \"coordinates\": [\n",
    "                    [-105.00341892242432, 39.75383843460583],\n",
    "                    [-105.0008225440979, 39.751891803969535]\n",
    "                ]\n",
    "            },\n",
    "            \"properties\": {\n",
    "                \"popupContent\": \"This is free bus that will take you across downtown.\",\n",
    "                \"underConstruction\": False\n",
    "            },\n",
    "            \"id\": 1\n",
    "        },\n",
    "        {\n",
    "            \"type\": \"Feature\",\n",
    "            \"geometry\": {\n",
    "                \"type\": \"LineString\",\n",
    "                \"coordinates\": [\n",
    "                    [-105.0008225440979, 39.751891803969535],\n",
    "                    [-104.99820470809937, 39.74979664004068]\n",
    "                ]\n",
    "            },\n",
    "            \"properties\": {\n",
    "                \"popupContent\": \"This is free bus that will take you across downtown.\",\n",
    "                \"underConstruction\": True\n",
    "            },\n",
    "            \"id\": 2\n",
    "        },\n",
    "        {\n",
    "            \"type\": \"Feature\",\n",
    "            \"geometry\": {\n",
    "                \"type\": \"LineString\",\n",
    "                \"coordinates\": [\n",
    "                    [-104.99820470809937, 39.74979664004068],\n",
    "                    [-104.98689651489258, 39.741052354709055]\n",
    "                ]\n",
    "            },\n",
    "            \"properties\": {\n",
    "                \"popupContent\": \"This is free bus that will take you across downtown.\",\n",
    "                \"underConstruction\": False\n",
    "            },\n",
    "            \"id\": 3\n",
    "        }\n",
    "    ]\n",
    "}\n",
    "\ngeojson(data)"
   ]
  }
 ],
 "metadata": {
  "kernel_info": {
   "name": "python3"
  },
  "kernelspec": {
   "name": "python3",
   "language": "python",
   "display_name": "Python 3"
  },
  "language_info": {
   "name": "python",
   "codemirror_mode": {
    "name": "ipython",
    "version": 3
   },
   "nbconvert_exporter": "python",
   "pygments_lexer": "ipython3",
   "file_extension": ".py",
   "mimetype": "text/x-python",
   "version": "3.5.2"
  }
 },
 "nbformat": 4
}