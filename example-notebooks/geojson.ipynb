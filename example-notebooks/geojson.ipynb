{
 "nbformat_minor": 0,
 "cells": [
  {
   "cell_type": "code",
   "execution_count": 1,
   "metadata": {
    "collapsed": false
   },
   "outputs": [],
   "source": [
    "import IPython\n",
    "import json\n",
    "\n",
    "def geojson(data):\n",
    "  bundle = {}\n",
    "  bundle['application/vnd.geojson.v1+json'] = data\n",
    "  IPython.display.display(bundle, raw=True)"
   ]
  },
  {
   "cell_type": "code",
   "execution_count": 2,
   "metadata": {
    "collapsed": false
   },
   "outputs": [],
   "source": [
    "data = {\n",
    "    \"type\": \"FeatureCollection\",\n",
    "    \"features\": [\n",
    "        {\n",
    "            \"type\": \"Feature\",\n",
    "            \"geometry\": {\n",
    "                \"type\": \"LineString\",\n",
    "                \"coordinates\": [\n",
    "                    [-105.00341892242432, 39.75383843460583],\n",
    "                    [-105.0008225440979, 39.751891803969535]\n",
    "                ]\n",
    "            },\n",
    "            \"properties\": {\n",
    "                \"popupContent\": \"This is free bus that will take you across downtown.\",\n",
    "                \"underConstruction\": False\n",
    "            },\n",
    "            \"id\": 1\n",
    "        },\n",
    "        {\n",
    "            \"type\": \"Feature\",\n",
    "            \"geometry\": {\n",
    "                \"type\": \"LineString\",\n",
    "                \"coordinates\": [\n",
    "                    [-105.0008225440979, 39.751891803969535],\n",
    "                    [-104.99820470809937, 39.74979664004068]\n",
    "                ]\n",
    "            },\n",
    "            \"properties\": {\n",
    "                \"popupContent\": \"This is free bus that will take you across downtown.\",\n",
    "                \"underConstruction\": True\n",
    "            },\n",
    "            \"id\": 2\n",
    "        },\n",
    "        {\n",
    "            \"type\": \"Feature\",\n",
    "            \"geometry\": {\n",
    "                \"type\": \"LineString\",\n",
    "                \"coordinates\": [\n",
    "                    [-104.99820470809937, 39.74979664004068],\n",
    "                    [-104.98689651489258, 39.741052354709055]\n",
    "                ]\n",
    "            },\n",
    "            \"properties\": {\n",
    "                \"popupContent\": \"This is free bus that will take you across downtown.\",\n",
    "                \"underConstruction\": False\n",
    "            },\n",
    "            \"id\": 3\n",
    "        }\n",
    "    ]\n",
    "}\n",
    "\ngeojson(data)"
   ]
  },
  {
   "cell_type": "code",
   "execution_count": null,
   "metadata": {
    "collapsed": false
   },
   "source": [],
   "outputs": []
  }
 ],
 "metadata": {
  "kernel_info": {
   "name": "python3"
  },
  "kernelspec": {
   "name": "python3",
   "language": "python",
   "display_name": "Python 3"
  },
  "language_info": {
   "pygments_lexer": "ipython3",
   "nbconvert_exporter": "python",
   "name": "python",
   "mimetype": "text/x-python",
   "file_extension": ".py",
   "version": "3.5.1",
   "codemirror_mode": {
    "name": "ipython",
    "version": 3
   }
  }
 },
 "nbformat": 4
}