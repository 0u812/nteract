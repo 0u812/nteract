{
  "cells": [
    {
      "cell_type": "markdown",
      "source": [
        "# About These Notebooks\n",
        "\nUnlike the [online Tellurium documentation](http://tellurium.readthedocs.io/en/latest), which is intended to work in **both** Jupyter and the Tellurium notebook viewer, these example notebooks are specialized for the Tellurium's notebook viewer. This allows you to use Tellurium's special notebook cells. Whereas regular Jupyter notebooks only contain Python code, Tellurium allows you to incorporate the community standards [SBML](http://sbml.org/Main_Page) and [COMBINE archives](http://co.mbine.org/documents/archive) directly in your notebook."
      ],
      "metadata": {}
    },
    {
      "cell_type": "markdown",
      "source": [
        "## Simple Example\n",
        "\n",
        "This example shows how to set up a simple model in Tellurium and solve it as an ODE. Tellurium uses a human-readable representation of SBML models called [Antimony](http://antimony.sourceforge.net/). The following notebook cell is actually Antimony code - the Tellurium notebook viewer allows you to configure notebook cells as either Antimony, Python, or COMBINE archives. To create Antimony cells, simply select \"Convert to Model Cell\" from the dropdown in the upper right of a code cell.\n",
        "\nWhen you run the cell below, it will create an instance of the [RoadRunner](http://sys-bio.github.io/roadrunner/python_docs/index.html) simulator. You can use this instance to simulate the model by running the `simulate` function with the start time, end time, and number of points."
      ],
      "metadata": {}
    },
    {
      "cell_type": "code",
      "source": [
        "model simple()\n",
        "  S1 -> S2; k1*S1\n",
        "  k1 = 0.1\n",
        "  S1 = 10\n",
        "end"
      ],
      "outputs": [],
      "execution_count": 1,
      "metadata": {
        "collapsed": false,
        "outputHidden": false,
        "inputHidden": false,
        "tellurium": {
          "te_cell_type": "antimony"
        }
      }
    },
    {
      "cell_type": "code",
      "source": [
        "simple.simulate(0, 50, 100)\n",
        "simple.plot()"
      ],
      "outputs": [],
      "execution_count": 2,
      "metadata": {
        "collapsed": false,
        "outputHidden": false,
        "inputHidden": false
      }
    },
    {
      "cell_type": "markdown",
      "source": [
        "## More Complex Example\n",
        "\n",
        "Tellurium can also handle stochastic models. This example shows how to select Tellurium’s stochastic solver. The underlying simulation engine used by Tellurium implements a Gibson direct method for simulating this model.\n",
        "\nIn this example, we run multiple simulations of a stochastic model. Then, we average the simulation trajectories and plot the average trajectory along with the ensemble."
      ],
      "metadata": {}
    },
    {
      "cell_type": "code",
      "source": [
        "model stochastic()\n",
        "    J1: S1 -> S2;  k1*S1;\n",
        "    J2: S2 -> S3; k2*S2 - k3*S3\n",
        "    J3: S3 -> S4; k4*S3;\n",
        "\n",
        "    k1 = 0.1; k2 = 0.5; k3 = 0.5; k4 = 0.5;\n",
        "    S1 = 100;\n",
        "end"
      ],
      "outputs": [],
      "execution_count": 3,
      "metadata": {
        "collapsed": false,
        "outputHidden": false,
        "inputHidden": false,
        "tellurium": {
          "te_cell_type": "antimony"
        }
      }
    },
    {
      "cell_type": "code",
      "source": [
        "import tellurium as te, numpy as np\n",
        "\n",
        "# use a stochastic solver\n",
        "stochastic.integrator = 'gillespie'\n",
        "stochastic.integrator.seed = 1234\n",
        "# selections specifies the output variables in a simulation\n",
        "selections = ['time'] + stochastic.getBoundarySpeciesIds() + stochastic.getFloatingSpeciesIds()\n",
        "stochastic.integrator.variable_step_size = False\n",
        "\n",
        "# run repeated simulation\n",
        "Ncol = len(stochastic.selections)\n",
        "Nsim = 30\n",
        "points = 101\n",
        "s_sum = np.zeros(shape=[points, Ncol])\n",
        "for k in range(Nsim):\n",
        "    stochastic.resetToOrigin()\n",
        "    s = stochastic.simulate(0, 50, points, selections=selections)\n",
        "    s_sum += s\n",
        "    # use show=False to add traces to the current plot\n",
        "    # instead of starting a new one, equivalent to MATLAB hold on\n",
        "    stochastic.plot(s, alpha=0.5, show=False)\n",
        "\n",
        "# add mean curve, legend, show everything and set labels, titles, ...\n",
        "fig = te.plot(s[:,0], s_sum[:,1:]/Nsim, names=[x + ' (mean)' for x in selections[1:]], title=\"Stochastic simulation\", xtitle=\"time\", ytitle=\"concentration\")"
      ],
      "outputs": [],
      "execution_count": 4,
      "metadata": {
        "collapsed": false,
        "outputHidden": false,
        "inputHidden": false
      }
    }
  ],
  "metadata": {
    "kernelspec": {
      "name": "python3",
      "language": "python",
      "display_name": "Python 3"
    },
    "kernel_info": {
      "name": "python3"
    },
    "language_info": {
      "name": "python",
      "version": "3.6.1",
      "mimetype": "text/x-python",
      "codemirror_mode": {
        "name": "ipython",
        "version": 3
      },
      "pygments_lexer": "ipython3",
      "nbconvert_exporter": "python",
      "file_extension": ".py"
    }
  },
  "nbformat": 4,
  "nbformat_minor": 4
}
